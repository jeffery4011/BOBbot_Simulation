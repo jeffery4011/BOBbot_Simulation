{
  "nbformat": 4,
  "nbformat_minor": 0,
  "metadata": {
    "colab": {
      "provenance": []
    },
    "kernelspec": {
      "name": "python3",
      "display_name": "Python 3"
    },
    "language_info": {
      "name": "python"
    }
  },
  "cells": [
    {
      "cell_type": "code",
      "execution_count": null,
      "metadata": {
        "colab": {
          "base_uri": "https://localhost:8080/"
        },
        "id": "vBn54hafpYnb",
        "outputId": "07a0bead-0e21-4c52-a80b-cc968ee068ec"
      },
      "outputs": [
        {
          "output_type": "stream",
          "name": "stdout",
          "text": [
            "\u001b[33m\r0% [Working]\u001b[0m\r            \rGet:1 https://cloud.r-project.org/bin/linux/ubuntu jammy-cran40/ InRelease [3,626 B]\n",
            "Get:2 https://developer.download.nvidia.com/compute/cuda/repos/ubuntu2204/x86_64  InRelease [1,581 B]\n",
            "Get:3 http://security.ubuntu.com/ubuntu jammy-security InRelease [129 kB]\n",
            "Get:4 https://developer.download.nvidia.com/compute/cuda/repos/ubuntu2204/x86_64  Packages [973 kB]\n",
            "Hit:5 http://archive.ubuntu.com/ubuntu jammy InRelease\n",
            "Get:6 http://archive.ubuntu.com/ubuntu jammy-updates InRelease [128 kB]\n",
            "Hit:7 https://ppa.launchpadcontent.net/c2d4u.team/c2d4u4.0+/ubuntu jammy InRelease\n",
            "Hit:8 https://ppa.launchpadcontent.net/deadsnakes/ppa/ubuntu jammy InRelease\n",
            "Get:9 http://security.ubuntu.com/ubuntu jammy-security/universe amd64 Packages [1,125 kB]\n",
            "Hit:10 https://ppa.launchpadcontent.net/graphics-drivers/ppa/ubuntu jammy InRelease\n",
            "Get:11 http://archive.ubuntu.com/ubuntu jammy-backports InRelease [127 kB]\n",
            "Hit:12 https://ppa.launchpadcontent.net/ubuntugis/ppa/ubuntu jammy InRelease\n",
            "Get:13 http://archive.ubuntu.com/ubuntu jammy-updates/universe amd64 Packages [1,409 kB]\n",
            "Get:14 http://security.ubuntu.com/ubuntu jammy-security/restricted amd64 Packages [2,591 kB]\n",
            "Get:15 http://archive.ubuntu.com/ubuntu jammy-updates/restricted amd64 Packages [2,664 kB]\n",
            "Get:16 http://security.ubuntu.com/ubuntu jammy-security/main amd64 Packages [1,994 kB]\n",
            "Get:17 http://archive.ubuntu.com/ubuntu jammy-updates/main amd64 Packages [2,258 kB]\n",
            "Fetched 13.4 MB in 4s (3,583 kB/s)\n",
            "Reading package lists... Done\n",
            "Building dependency tree... Done\n",
            "Reading state information... Done\n",
            "46 packages can be upgraded. Run 'apt list --upgradable' to see them.\n",
            "Reading package lists... Done\n",
            "Building dependency tree... Done\n",
            "Reading state information... Done\n",
            "cmake is already the newest version (3.22.1-1ubuntu1.22.04.2).\n",
            "0 upgraded, 0 newly installed, 0 to remove and 46 not upgraded.\n",
            "Requirement already satisfied: dlib in /usr/local/lib/python3.10/dist-packages (19.24.4)\n"
          ]
        }
      ],
      "source": [
        "! apt update\n",
        "! apt install -y cmake\n",
        "! pip install dlib"
      ]
    },
    {
      "cell_type": "code",
      "source": [
        "! git clone https://github.com/jeffery4011/BOBbot_Simulation.git\n"
      ],
      "metadata": {
        "colab": {
          "base_uri": "https://localhost:8080/"
        },
        "id": "_XysKgG3pcEy",
        "outputId": "e49b2fca-3978-4a31-80c0-050e2f316765"
      },
      "execution_count": null,
      "outputs": [
        {
          "output_type": "stream",
          "name": "stdout",
          "text": [
            "Cloning into 'BOBbot_Simulation'...\n",
            "remote: Enumerating objects: 1129, done.\u001b[K\n",
            "remote: Counting objects: 100% (284/284), done.\u001b[K\n",
            "remote: Compressing objects: 100% (149/149), done.\u001b[K\n",
            "remote: Total 1129 (delta 154), reused 265 (delta 135), pack-reused 845\u001b[K\n",
            "Receiving objects: 100% (1129/1129), 108.25 KiB | 1.01 MiB/s, done.\n",
            "Resolving deltas: 100% (699/699), done.\n"
          ]
        }
      ]
    },
    {
      "cell_type": "code",
      "source": [
        "! cmake --version"
      ],
      "metadata": {
        "colab": {
          "base_uri": "https://localhost:8080/"
        },
        "id": "fIKy1VMVpxQo",
        "outputId": "aeebf514-8583-431c-b77f-27b24a92a07b"
      },
      "execution_count": null,
      "outputs": [
        {
          "output_type": "stream",
          "name": "stdout",
          "text": [
            "cmake version 3.27.9\n",
            "\n",
            "CMake suite maintained and supported by Kitware (kitware.com/cmake).\n"
          ]
        }
      ]
    },
    {
      "cell_type": "code",
      "source": [
        "! gcc --version"
      ],
      "metadata": {
        "colab": {
          "base_uri": "https://localhost:8080/"
        },
        "id": "kyFnRSlrvspI",
        "outputId": "3032c91f-3911-4b21-d6ff-647ecb685d76"
      },
      "execution_count": null,
      "outputs": [
        {
          "output_type": "stream",
          "name": "stdout",
          "text": [
            "gcc (Ubuntu 11.4.0-1ubuntu1~22.04) 11.4.0\n",
            "Copyright (C) 2021 Free Software Foundation, Inc.\n",
            "This is free software; see the source for copying conditions.  There is NO\n",
            "warranty; not even for MERCHANTABILITY or FITNESS FOR A PARTICULAR PURPOSE.\n",
            "\n"
          ]
        }
      ]
    },
    {
      "cell_type": "code",
      "source": [
        "%cd /content/BOBbot_Simulation\n",
        "! mkdir build\n",
        "%cd build\n",
        "! pwd\n",
        "! cmake ..\n",
        "! cmake --build .\n",
        "# ! ./BOBbot_simulation 2"
      ],
      "metadata": {
        "colab": {
          "base_uri": "https://localhost:8080/"
        },
        "id": "jTn_FBF5pySm",
        "outputId": "e8f63bbc-11ea-44e0-ad64-78f66150e75c"
      },
      "execution_count": null,
      "outputs": [
        {
          "output_type": "stream",
          "name": "stdout",
          "text": [
            "/content/BOBbot_Simulation\n",
            "/content/BOBbot_Simulation/build\n",
            "/content/BOBbot_Simulation/build\n",
            "-- The C compiler identification is GNU 11.4.0\n",
            "-- The CXX compiler identification is GNU 11.4.0\n",
            "-- Detecting C compiler ABI info\n",
            "-- Detecting C compiler ABI info - done\n",
            "-- Check for working C compiler: /usr/bin/cc - skipped\n",
            "-- Detecting C compile features\n",
            "-- Detecting C compile features - done\n",
            "-- Detecting CXX compiler ABI info\n",
            "-- Detecting CXX compiler ABI info - done\n",
            "-- Check for working CXX compiler: /usr/bin/c++ - skipped\n",
            "-- Detecting CXX compile features\n",
            "-- Detecting CXX compile features - done\n",
            "-- Configuring done (0.9s)\n",
            "-- Generating done (0.0s)\n",
            "-- Build files have been written to: /content/BOBbot_Simulation/build\n",
            "[  6%] \u001b[32mBuilding CXX object Particle/CMakeFiles/RandomLibrary.dir/randomize.cxx.o\u001b[0m\n",
            "[ 12%] \u001b[32m\u001b[1mLinking CXX static library libRandomLibrary.a\u001b[0m\n",
            "[ 12%] Built target RandomLibrary\n",
            "[ 18%] \u001b[32mBuilding CXX object Particle/CMakeFiles/VectorLibrary.dir/v2.cxx.o\u001b[0m\n",
            "[ 25%] \u001b[32m\u001b[1mLinking CXX static library libVectorLibrary.a\u001b[0m\n",
            "[ 25%] Built target VectorLibrary\n",
            "[ 31%] \u001b[32mBuilding CXX object Particle/CMakeFiles/Particle.dir/Particle.cxx.o\u001b[0m\n",
            "[ 37%] \u001b[32m\u001b[1mLinking CXX static library libParticle.a\u001b[0m\n",
            "[ 37%] Built target Particle\n",
            "[ 43%] \u001b[32mBuilding CXX object Interaction_Force/CMakeFiles/Interaction_Force_Library.dir/interact_force.cxx.o\u001b[0m\n",
            "[ 50%] \u001b[32m\u001b[1mLinking CXX static library libInteraction_Force_Library.a\u001b[0m\n",
            "[ 50%] Built target Interaction_Force_Library\n",
            "[ 56%] \u001b[32mBuilding CXX object Ring/CMakeFiles/Ring.dir/Ring.cxx.o\u001b[0m\n",
            "[ 62%] \u001b[32m\u001b[1mLinking CXX static library libRing.a\u001b[0m\n",
            "[ 62%] Built target Ring\n",
            "[ 68%] \u001b[32mBuilding CXX object Contact/CMakeFiles/ContactLibrary.dir/contact.cxx.o\u001b[0m\n",
            "[ 75%] \u001b[32m\u001b[1mLinking CXX static library libContactLibrary.a\u001b[0m\n",
            "[ 75%] Built target ContactLibrary\n",
            "[ 81%] \u001b[32mBuilding CXX object Solver/CMakeFiles/Solver.dir/solver.cxx.o\u001b[0m\n",
            "[ 87%] \u001b[32m\u001b[1mLinking CXX static library libSolver.a\u001b[0m\n",
            "[ 87%] Built target Solver\n",
            "[ 93%] \u001b[32mBuilding CXX object CMakeFiles/BOBbot_simulation.dir/BOBbot_simulation.cxx.o\u001b[0m\n",
            "[100%] \u001b[32m\u001b[1mLinking CXX executable BOBbot_simulation\u001b[0m\n",
            "[100%] Built target BOBbot_simulation\n"
          ]
        }
      ]
    },
    {
      "cell_type": "code",
      "source": [
        "! ./BOBbot_simulation 2"
      ],
      "metadata": {
        "id": "ydxZiTXqnf-8",
        "colab": {
          "base_uri": "https://localhost:8080/"
        },
        "outputId": "50ecb581-2314-4c2d-e7e6-429552f3814e"
      },
      "execution_count": null,
      "outputs": [
        {
          "output_type": "stream",
          "name": "stdout",
          "text": [
            "Placing 1th Particle\n",
            "Try 0th time\n",
            "All Robots have been placed!\n",
            "Force_Applied\n",
            "PA relative Force direction: -0.14  -0.573962\n",
            "Force_norm:  0.104047\n",
            "Velocity_ x = 0.1  y=0\n",
            "Angular_velocity= 10\n",
            "External_Force_ x = -0.145377  y=0\n",
            "PA relative Force direction: -0.138652  -0.564603\n",
            "Force_norm:  0.0991992\n",
            "Velocity_ x = 0.0990372  y=0\n",
            "Angular_velocity= 9.86086\n",
            "External_Force_ x = -0.343064  y=0\n",
            "PA relative Force direction: -0.135471  -0.555452\n",
            "Force_norm:  0.0926391\n",
            "Velocity_ x = 0.0967653  y=0\n",
            "Angular_velocity= 9.72433\n",
            "External_Force_ x = -0.535685  y=0\n",
            "PA relative Force direction: -0.130505  -0.546522\n",
            "Force_norm:  0.0845396\n",
            "Velocity_ x = 0.0932177  y=0\n",
            "Angular_velocity= 9.59032\n",
            "External_Force_ x = -0.7207  y=0\n",
            "PA relative Force direction: -0.123823  -0.537824\n",
            "Force_norm:  0.0751417\n",
            "Velocity_ x = 0.0884449  y=0\n",
            "Angular_velocity= 9.45878\n",
            "External_Force_ x = -0.895678  y=0\n",
            "PA relative Force direction: -0.115518  -0.529363\n",
            "Force_norm:  0.0647598\n",
            "Velocity_ x = 0.0825132  y=0\n",
            "Angular_velocity= 9.32963\n",
            "External_Force_ x = -1.05834  y=0\n",
            "PA relative Force direction: -0.105706  -0.521147\n",
            "Force_norm:  0.0537835\n",
            "Velocity_ x = 0.0755044  y=0\n",
            "Angular_velocity= 9.20277\n",
            "External_Force_ x = -1.20654  y=0\n",
            "PA relative Force direction: -0.0945196  -0.51318\n",
            "Force_norm:  0.0426707\n",
            "Velocity_ x = 0.067514  y=0\n",
            "Angular_velocity= 9.07812\n",
            "External_Force_ x = -1.33838  y=0\n",
            "PA relative Force direction: -0.0821108  -0.505463\n",
            "Force_norm:  0.0319299\n",
            "Velocity_ x = 0.0586506  y=0\n",
            "Angular_velocity= 8.9556\n",
            "External_Force_ x = -1.45214  y=0\n",
            "PA relative Force direction: -0.0686473  -0.497996\n",
            "Force_norm:  0.0220879\n",
            "Velocity_ x = 0.0490338  y=0\n",
            "Angular_velocity= 8.8351\n",
            "External_Force_ x = -1.54636  y=0\n",
            "PA relative Force direction: -0.0543103  -0.490778\n",
            "Force_norm:  0.0136457\n",
            "Velocity_ x = 0.038793  y=0\n",
            "Angular_velocity= 8.71655\n",
            "External_Force_ x = -1.61985  y=0\n",
            "PA relative Force direction: -0.0392918  -0.483804\n",
            "Force_norm:  0.00702587\n",
            "Velocity_ x = 0.0280656  y=0\n",
            "Angular_velocity= 8.59984\n",
            "External_Force_ x = -1.67169  y=0\n",
            "PA relative Force direction: -0.0237927  -0.477069\n",
            "Force_norm:  0.00252498\n",
            "Velocity_ x = 0.0169948  y=0\n",
            "Angular_velocity= 8.48489\n",
            "External_Force_ x = -1.70125  y=0\n",
            "PA relative Force direction: -0.00801951  -0.470566\n",
            "Force_norm:  0.000280139\n",
            "Velocity_ x = 0.00572822  y=0\n",
            "Angular_velocity= 8.3716\n",
            "External_Force_ x = -1.7082  y=0\n",
            "PA relative Force direction: 0.00781813  -0.464286\n",
            "Force_norm:  0.000259168\n",
            "Velocity_ x = -0.00558438  y=0\n",
            "Angular_velocity= 8.25988\n",
            "External_Force_ x = -1.69251  y=0\n",
            "PA relative Force direction: 0.0235102  -0.458218\n",
            "Force_norm:  0.00227534\n",
            "Velocity_ x = -0.016793  y=0\n",
            "Angular_velocity= 8.14966\n",
            "External_Force_ x = -1.65444  y=0\n",
            "PA relative Force direction: 0.0388494  -0.452351\n",
            "Force_norm:  0.00602078\n",
            "Velocity_ x = -0.0277496  y=0\n",
            "Angular_velocity= 8.04085\n",
            "External_Force_ x = -1.59456  y=0\n",
            "PA relative Force direction: 0.0536334  -0.446671\n",
            "Force_norm:  0.0111088\n",
            "Velocity_ x = -0.0383096  y=0\n",
            "Angular_velocity= 7.93337\n",
            "External_Force_ x = -1.51372  y=0\n",
            "PA relative Force direction: 0.0676679  -0.441166\n",
            "Force_norm:  0.0171154\n",
            "Velocity_ x = -0.0483342  y=0\n",
            "Angular_velocity= 7.82715\n",
            "External_Force_ x = -1.41304  y=0\n",
            "PA relative Force direction: 0.080769  -0.435819\n",
            "Force_norm:  0.0236148\n",
            "Velocity_ x = -0.0576921  y=0\n",
            "Angular_velocity= 7.72213\n",
            "External_Force_ x = -1.29391  y=0\n",
            "PA relative Force direction: 0.0927655  -0.430617\n",
            "Force_norm:  0.0302043\n",
            "Velocity_ x = -0.0662611  y=0\n",
            "Angular_velocity= 7.61824\n",
            "External_Force_ x = -1.15796  y=0\n",
            "PA relative Force direction: 0.103502  -0.425544\n",
            "Force_norm:  0.0365214\n",
            "Velocity_ x = -0.0739297  y=0\n",
            "Angular_velocity= 7.51544\n",
            "External_Force_ x = -1.00704  y=0\n",
            "PA relative Force direction: 0.112838  -0.420583\n",
            "Force_norm:  0.0422528\n",
            "Velocity_ x = -0.0805988  y=0\n",
            "Angular_velocity= 7.41367\n",
            "External_Force_ x = -0.843173  y=0\n",
            "PA relative Force direction: 0.120656  -0.41572\n",
            "Force_norm:  0.0471394\n",
            "Velocity_ x = -0.0861828  y=0\n",
            "Angular_velocity= 7.3129\n",
            "External_Force_ x = -0.668574  y=0\n",
            "PA relative Force direction: 0.126855  -0.410939\n",
            "Force_norm:  0.0509773\n",
            "Velocity_ x = -0.0906104  y=0\n",
            "Angular_velocity= 7.21308\n",
            "External_Force_ x = -0.485581  y=0\n",
            "PA relative Force direction: 0.131357  -0.406224\n",
            "Force_norm:  0.0536179\n",
            "Velocity_ x = -0.0938262  y=0\n",
            "Angular_velocity= 7.1142\n",
            "External_Force_ x = -0.29664  y=0\n",
            "PA relative Force direction: 0.134107  -0.401561\n",
            "Force_norm:  0.0549678\n",
            "Velocity_ x = -0.0957907  y=0\n",
            "Angular_velocity= 7.01624\n",
            "External_Force_ x = -0.104272  y=0\n",
            "PA relative Force direction: 0.135074  -0.396937\n",
            "Force_norm:  0.0549874\n",
            "Velocity_ x = -0.0964812  y=0\n",
            "Angular_velocity= 6.91917\n",
            "External_Force_ x = 0.0889643  y=0\n"
          ]
        }
      ]
    },
    {
      "cell_type": "code",
      "source": [],
      "metadata": {
        "id": "HLOelxxpcXlG"
      },
      "execution_count": null,
      "outputs": []
    }
  ]
}